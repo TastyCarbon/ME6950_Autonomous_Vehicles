{
 "cells": [
  {
   "cell_type": "markdown",
   "metadata": {},
   "source": [
    "Pritesh Patil"
   ]
  },
  {
   "cell_type": "markdown",
   "metadata": {},
   "source": [
    "#### Problem 1:"
   ]
  },
  {
   "cell_type": "markdown",
   "metadata": {},
   "source": [
    "The National Highway Traffic Safety Administration also known as the NHTSA is a US national agency that aims to increase motor vehicle and highway safety. One of the ways this is accomplished is by providing a crash statistics database up until 2020. According to the database, the number of registered motor vehicles have consistently risen since 1994. The number of fatalities do not follow this trend. The fatality rate generally decreased from 23.21 per 100,000 licensed drivers in 1994 to 15.29 in 2014 but after 2014 this trend changed and the fatality rates started going back up and in 2020 the rate is at 17.01 per 100,000 licensed drivers. This has been attributed to various factors related to driver error [1].  This indicates that there is an increased need of improving motor vehicle safety. Autonomous Vehicles would help with this by reducing distracted driving, driving while under alcohol influence, etc."
   ]
  },
  {
   "cell_type": "markdown",
   "metadata": {},
   "source": [
    "#### Problem 2:"
   ]
  },
  {
   "cell_type": "markdown",
   "metadata": {},
   "source": [
    "Here is a simplified systems level drawing of velocity control on an autonomous vehicle. A system like this can be used to maintain distance from a vehicle in front of the ego vehicle or to detect obstacles."
   ]
  },
  {
   "cell_type": "markdown",
   "metadata": {},
   "source": [
    "![image5.png](image5.png)"
   ]
  },
  {
   "cell_type": "markdown",
   "metadata": {},
   "source": [
    "#### Problem 3:"
   ]
  },
  {
   "cell_type": "markdown",
   "metadata": {},
   "source": [
    "Video file “ME6950_HW1_P3.mkv” attached with the homework. Python code is:"
   ]
  },
  {
   "cell_type": "code",
   "execution_count": null,
   "metadata": {},
   "outputs": [],
   "source": [
    "import matplotlib.pylab as plt\n",
    "import cv2\n",
    "import numpy as np\n",
    "\n",
    "def region_of_interest(img, vertices):\n",
    "    mask = np.zeros_like(img)\n",
    "    match_mask_color = 255\n",
    "    cv2.fillPoly(mask, vertices, match_mask_color)\n",
    "    masked_image = cv2.bitwise_and(img, mask)\n",
    "    return masked_image\n",
    "\n",
    "def draw_the_lines(img, lines):\n",
    "    img = np.copy(img)\n",
    "    blank_image = np.zeros((img.shape[0], img.shape[1], 3), dtype=np.uint8)\n",
    "\n",
    "    if lines is not None:\n",
    "        for line in lines:\n",
    "            for x1, y1, x2, y2 in line:\n",
    "                cv2.line(blank_image , (x1,y1), (x2, y2), (255,0,255), thickness=3)\n",
    "\n",
    "    img = cv2.addWeighted(img, 0.8, blank_image, 1, 0.0)\n",
    "    return img\n",
    "\n",
    "def process(image):\n",
    "    gray_image = cv2.cvtColor(image, cv2.COLOR_RGB2GRAY)\n",
    "    canny_image = cv2.Canny(gray_image, 100, 120)\n",
    "    height = image.shape[0]\n",
    "    width = image.shape[1]\n",
    "    region_of_interest_vertices = [\n",
    "\n",
    "# --------------- Modify these parameters ----------------------------------------------\n",
    "        (width*(1/6), height*(4/5)),\n",
    "        (width/2, height/2),\n",
    "        (width*(5/6), height*(4/5))\n",
    "# --------------------------------------------------------------------------------------\n",
    "    ]\n",
    "    cropped_image = region_of_interest(canny_image, np.array([region_of_interest_vertices], np.int32))\n",
    "\n",
    "    lines = cv2.HoughLinesP(cropped_image, \n",
    "\n",
    "# --------------- Modify these parameters ----------------------------------------------\n",
    "                            rho=2, \n",
    "                            theta=np.pi/600, \n",
    "                            threshold=100, \n",
    "                            lines=np.array([]), \n",
    "                            minLineLength=40, \n",
    "                            maxLineGap=200)\n",
    "# --------------------------------------------------------------------------------------\n",
    "\n",
    "    image_with_lines = draw_the_lines(image, lines)\n",
    "    return image_with_lines\n",
    "\n",
    "cap = cv2.VideoCapture('/home/pritesh/Documents/WMU/2023_Spring/ME_6950_Autonomous_Vehicles/Lab_1/Easy_HighRes/Easy_HighRes.mp4')\n",
    "\n",
    "while(cap.isOpened()):\n",
    "    ret, frame = cap.read()\n",
    "    frame = process(frame)\n",
    "    cv2.imshow('frame', frame)\n",
    "    # cv2.waitKey(20)\n",
    "    if cv2.waitKey(1) & 0xFF == ord('q'):\n",
    "        break\n",
    "\n",
    "cap.release()\n",
    "cv2.destroyAllWindows"
   ]
  },
  {
   "cell_type": "markdown",
   "metadata": {},
   "source": [
    "#### Problem 4:"
   ]
  },
  {
   "cell_type": "markdown",
   "metadata": {},
   "source": [
    "The first sensor I am exploring is the front rgb camera. This seems to be located on the front of the ego vehicle which is recording a vehicle in front of it."
   ]
  },
  {
   "cell_type": "markdown",
   "metadata": {},
   "source": [
    "![image4.png](image4.png)"
   ]
  },
  {
   "cell_type": "markdown",
   "metadata": {},
   "source": [
    "The next sensor I’m looking at is a LIDAR sensor data on the ego vehicle."
   ]
  },
  {
   "cell_type": "markdown",
   "metadata": {},
   "source": [
    "![image1.png](image1.png)"
   ]
  },
  {
   "cell_type": "markdown",
   "metadata": {},
   "source": [
    "#### Problem 5:"
   ]
  },
  {
   "cell_type": "markdown",
   "metadata": {},
   "source": [
    "The DARPA Grand Challenge of 2007 saw one team present an autonomous off-road vehicle [2]. In this paper they first explain how the DARPA Grand challenges also provide a source of impetus for development and integration of research as well as to focus public attention and increase acceptance of these technologies. Lastly, they explain how their vehicle GC'05 showcases their platform and strategies. Such papers are critical in not only introducing the field to new researchers but also provide a way for experienced researchers to integrate the presented research. This collaborative effort is an excellent way to advance the autonomous vehicles field due to interdisciplinary nature of the research involved."
   ]
  },
  {
   "cell_type": "markdown",
   "metadata": {},
   "source": [
    "#### References:"
   ]
  },
  {
   "cell_type": "markdown",
   "metadata": {},
   "source": [
    "[1] *Traffic Safety Facts 2020* (DOT HS 813 375). (2022). National Highway Traffic Safety Administration. https://crashstats.nhtsa.dot.gov/Api/Public/ViewPublication/813375"
   ]
  },
  {
   "cell_type": "markdown",
   "metadata": {},
   "source": [
    "[2] *Ozguner, Umit, Christoph Stiller, and Keith Redmill*. 2007. “Systems for Safety and Autonomous Behavior in Cars: The DARPA Grand Challenge Experience.” Proceedings of the IEEE 95 (2): 397–412."
   ]
  }
 ],
 "metadata": {
  "kernelspec": {
   "display_name": "Python 3 (ipykernel)",
   "language": "python",
   "name": "python3"
  },
  "language_info": {
   "codemirror_mode": {
    "name": "ipython",
    "version": 3
   },
   "file_extension": ".py",
   "mimetype": "text/x-python",
   "name": "python",
   "nbconvert_exporter": "python",
   "pygments_lexer": "ipython3",
   "version": "3.9.13"
  },
  "vscode": {
   "interpreter": {
    "hash": "31f2aee4e71d21fbe5cf8b01ff0e069b9275f58929596ceb00d14d90e3e16cd6"
   }
  }
 },
 "nbformat": 4,
 "nbformat_minor": 2
}
